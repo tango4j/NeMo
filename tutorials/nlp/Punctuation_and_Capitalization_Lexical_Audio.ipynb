{
 "cells": [
  {
   "cell_type": "code",
   "execution_count": 1,
   "metadata": {
    "pycharm": {
     "name": "#%%\n"
    }
   },
   "outputs": [],
   "source": [
    "BRANCH = 'r1.13.0'"
   ]
  },
  {
   "cell_type": "code",
   "execution_count": 2,
   "metadata": {
    "pycharm": {
     "name": "#%%\n"
    }
   },
   "outputs": [
    {
     "name": "stdout",
     "output_type": "stream",
     "text": [
      "Collecting nemo_toolkit[all]\n",
      "  Cloning https://github.com/NVIDIA/NeMo.git (to revision r1.13.0) to /tmp/pip-install-m40oh75q/nemo-toolkit_dc4ac2f47f55476a85af4d6a94a9e037\n",
      "  Running command git clone --filter=blob:none --quiet https://github.com/NVIDIA/NeMo.git /tmp/pip-install-m40oh75q/nemo-toolkit_dc4ac2f47f55476a85af4d6a94a9e037\n",
      "  Running command git checkout -b r1.13.0 --track origin/r1.13.0\n",
      "  Switched to a new branch 'r1.13.0'\n",
      "  Branch 'r1.13.0' set up to track remote branch 'r1.13.0' from 'origin'.\n",
      "  Resolved https://github.com/NVIDIA/NeMo.git to commit 26e3e1d1931a9f34986f73f071f82f446d90c1c5\n",
      "  Preparing metadata (setup.py) ... \u001b[?25ldone\n",
      "\u001b[?25hRequirement already satisfied: setuptools==59.5.0 in /home/mnovikov/miniconda3/envs/NeMo_main/lib/python3.9/site-packages (from nemo_toolkit[all]) (59.5.0)\n",
      "Requirement already satisfied: numpy>=1.21 in /home/mnovikov/miniconda3/envs/NeMo_main/lib/python3.9/site-packages (from nemo_toolkit[all]) (1.23.4)\n",
      "Requirement already satisfied: onnx>=1.7.0 in /home/mnovikov/miniconda3/envs/NeMo_main/lib/python3.9/site-packages (from nemo_toolkit[all]) (1.12.0)\n",
      "Requirement already satisfied: python-dateutil in /home/mnovikov/miniconda3/envs/NeMo_main/lib/python3.9/site-packages (from nemo_toolkit[all]) (2.8.2)\n",
      "Requirement already satisfied: torch in /home/mnovikov/miniconda3/envs/NeMo_main/lib/python3.9/site-packages (from nemo_toolkit[all]) (1.13.0)\n",
      "Requirement already satisfied: wrapt in /home/mnovikov/miniconda3/envs/NeMo_main/lib/python3.9/site-packages (from nemo_toolkit[all]) (1.14.1)\n",
      "Requirement already satisfied: ruamel.yaml in /home/mnovikov/miniconda3/envs/NeMo_main/lib/python3.9/site-packages (from nemo_toolkit[all]) (0.17.21)\n",
      "Requirement already satisfied: scikit-learn in /home/mnovikov/miniconda3/envs/NeMo_main/lib/python3.9/site-packages (from nemo_toolkit[all]) (1.1.3)\n",
      "Requirement already satisfied: tqdm>=4.41.0 in /home/mnovikov/miniconda3/envs/NeMo_main/lib/python3.9/site-packages (from nemo_toolkit[all]) (4.64.1)\n",
      "Requirement already satisfied: numba in /home/mnovikov/miniconda3/envs/NeMo_main/lib/python3.9/site-packages (from nemo_toolkit[all]) (0.56.3)\n",
      "Requirement already satisfied: wget in /home/mnovikov/miniconda3/envs/NeMo_main/lib/python3.9/site-packages (from nemo_toolkit[all]) (3.2)\n",
      "Requirement already satisfied: text-unidecode in /home/mnovikov/miniconda3/envs/NeMo_main/lib/python3.9/site-packages (from nemo_toolkit[all]) (1.3)\n",
      "Requirement already satisfied: huggingface_hub in /home/mnovikov/miniconda3/envs/NeMo_main/lib/python3.9/site-packages (from nemo_toolkit[all]) (0.10.1)\n",
      "Requirement already satisfied: click==8.0.2 in /home/mnovikov/miniconda3/envs/NeMo_main/lib/python3.9/site-packages (from nemo_toolkit[all]) (8.0.2)\n",
      "Requirement already satisfied: black==19.10b0 in /home/mnovikov/miniconda3/envs/NeMo_main/lib/python3.9/site-packages (from nemo_toolkit[all]) (19.10b0)\n",
      "Requirement already satisfied: isort[requirements]<5 in /home/mnovikov/miniconda3/envs/NeMo_main/lib/python3.9/site-packages (from nemo_toolkit[all]) (4.3.21)\n",
      "Requirement already satisfied: parameterized in /home/mnovikov/miniconda3/envs/NeMo_main/lib/python3.9/site-packages (from nemo_toolkit[all]) (0.8.1)\n",
      "Requirement already satisfied: pytest in /home/mnovikov/miniconda3/envs/NeMo_main/lib/python3.9/site-packages (from nemo_toolkit[all]) (7.2.0)\n",
      "Requirement already satisfied: pytest-runner in /home/mnovikov/miniconda3/envs/NeMo_main/lib/python3.9/site-packages (from nemo_toolkit[all]) (6.0.0)\n",
      "Requirement already satisfied: sphinx in /home/mnovikov/miniconda3/envs/NeMo_main/lib/python3.9/site-packages (from nemo_toolkit[all]) (5.3.0)\n",
      "Requirement already satisfied: sphinxcontrib-bibtex in /home/mnovikov/miniconda3/envs/NeMo_main/lib/python3.9/site-packages (from nemo_toolkit[all]) (2.5.0)\n",
      "Requirement already satisfied: wandb in /home/mnovikov/miniconda3/envs/NeMo_main/lib/python3.9/site-packages (from nemo_toolkit[all]) (0.13.4)\n",
      "Requirement already satisfied: inflect in /home/mnovikov/miniconda3/envs/NeMo_main/lib/python3.9/site-packages (from nemo_toolkit[all]) (6.0.2)\n",
      "Requirement already satisfied: regex in /home/mnovikov/miniconda3/envs/NeMo_main/lib/python3.9/site-packages (from nemo_toolkit[all]) (2022.10.31)\n",
      "Requirement already satisfied: pytorch-lightning<=1.7.7,>=1.7.0 in /home/mnovikov/miniconda3/envs/NeMo_main/lib/python3.9/site-packages (from nemo_toolkit[all]) (1.7.7)\n",
      "Requirement already satisfied: torchmetrics>=0.4.1rc0 in /home/mnovikov/miniconda3/envs/NeMo_main/lib/python3.9/site-packages (from nemo_toolkit[all]) (0.10.2)\n",
      "Requirement already satisfied: transformers<=4.21.2,>=4.0.1 in /home/mnovikov/miniconda3/envs/NeMo_main/lib/python3.9/site-packages (from nemo_toolkit[all]) (4.21.2)\n",
      "Requirement already satisfied: webdataset<=0.1.62,>=0.1.48 in /home/mnovikov/miniconda3/envs/NeMo_main/lib/python3.9/site-packages (from nemo_toolkit[all]) (0.1.62)\n",
      "Requirement already satisfied: omegaconf<2.2,>=2.1.2 in /home/mnovikov/miniconda3/envs/NeMo_main/lib/python3.9/site-packages (from nemo_toolkit[all]) (2.1.2)\n",
      "Requirement already satisfied: hydra-core<1.2,>=1.1.0 in /home/mnovikov/miniconda3/envs/NeMo_main/lib/python3.9/site-packages (from nemo_toolkit[all]) (1.1.2)\n",
      "Requirement already satisfied: pyyaml<6 in /home/mnovikov/miniconda3/envs/NeMo_main/lib/python3.9/site-packages (from nemo_toolkit[all]) (5.4.1)\n",
      "Requirement already satisfied: sentencepiece<1.0.0 in /home/mnovikov/miniconda3/envs/NeMo_main/lib/python3.9/site-packages (from nemo_toolkit[all]) (0.1.97)\n",
      "Requirement already satisfied: youtokentome>=1.0.5 in /home/mnovikov/miniconda3/envs/NeMo_main/lib/python3.9/site-packages (from nemo_toolkit[all]) (1.0.6)\n",
      "Requirement already satisfied: pandas in /home/mnovikov/miniconda3/envs/NeMo_main/lib/python3.9/site-packages (from nemo_toolkit[all]) (1.5.1)\n",
      "Requirement already satisfied: sacremoses>=0.0.43 in /home/mnovikov/miniconda3/envs/NeMo_main/lib/python3.9/site-packages (from nemo_toolkit[all]) (0.0.53)\n",
      "Requirement already satisfied: braceexpand in /home/mnovikov/miniconda3/envs/NeMo_main/lib/python3.9/site-packages (from nemo_toolkit[all]) (0.1.7)\n",
      "Requirement already satisfied: editdistance in /home/mnovikov/miniconda3/envs/NeMo_main/lib/python3.9/site-packages (from nemo_toolkit[all]) (0.6.1)\n",
      "Requirement already satisfied: librosa>=0.9.0 in /home/mnovikov/miniconda3/envs/NeMo_main/lib/python3.9/site-packages (from nemo_toolkit[all]) (0.9.2)\n",
      "Requirement already satisfied: marshmallow in /home/mnovikov/miniconda3/envs/NeMo_main/lib/python3.9/site-packages (from nemo_toolkit[all]) (3.18.0)\n",
      "Requirement already satisfied: packaging in /home/mnovikov/miniconda3/envs/NeMo_main/lib/python3.9/site-packages (from nemo_toolkit[all]) (21.3)\n",
      "Requirement already satisfied: soundfile in /home/mnovikov/miniconda3/envs/NeMo_main/lib/python3.9/site-packages (from nemo_toolkit[all]) (0.11.0)\n",
      "Requirement already satisfied: sox in /home/mnovikov/miniconda3/envs/NeMo_main/lib/python3.9/site-packages (from nemo_toolkit[all]) (1.4.1)\n",
      "Requirement already satisfied: kaldi-python-io in /home/mnovikov/miniconda3/envs/NeMo_main/lib/python3.9/site-packages (from nemo_toolkit[all]) (1.2.2)\n",
      "Requirement already satisfied: kaldiio in /home/mnovikov/miniconda3/envs/NeMo_main/lib/python3.9/site-packages (from nemo_toolkit[all]) (2.17.2)\n",
      "Requirement already satisfied: scipy>=0.14 in /home/mnovikov/miniconda3/envs/NeMo_main/lib/python3.9/site-packages (from nemo_toolkit[all]) (1.9.3)\n",
      "Requirement already satisfied: g2p_en in /home/mnovikov/miniconda3/envs/NeMo_main/lib/python3.9/site-packages (from nemo_toolkit[all]) (2.1.0)\n",
      "Requirement already satisfied: pydub in /home/mnovikov/miniconda3/envs/NeMo_main/lib/python3.9/site-packages (from nemo_toolkit[all]) (0.25.1)\n",
      "Requirement already satisfied: pyannote.core in /home/mnovikov/miniconda3/envs/NeMo_main/lib/python3.9/site-packages (from nemo_toolkit[all]) (4.5)\n",
      "Requirement already satisfied: pyannote.metrics in /home/mnovikov/miniconda3/envs/NeMo_main/lib/python3.9/site-packages (from nemo_toolkit[all]) (3.2.1)\n",
      "Requirement already satisfied: ipywidgets in /home/mnovikov/miniconda3/envs/NeMo_main/lib/python3.9/site-packages (from nemo_toolkit[all]) (7.6.5)\n",
      "Requirement already satisfied: matplotlib in /home/mnovikov/miniconda3/envs/NeMo_main/lib/python3.9/site-packages (from nemo_toolkit[all]) (3.6.2)\n",
      "Requirement already satisfied: texterrors in /home/mnovikov/miniconda3/envs/NeMo_main/lib/python3.9/site-packages (from nemo_toolkit[all]) (0.4.4)\n",
      "Requirement already satisfied: pillow in /home/mnovikov/miniconda3/envs/NeMo_main/lib/python3.9/site-packages (from nemo_toolkit[all]) (9.3.0)\n",
      "Requirement already satisfied: torchvision in /home/mnovikov/miniconda3/envs/NeMo_main/lib/python3.9/site-packages (from nemo_toolkit[all]) (0.14.0)\n",
      "Requirement already satisfied: boto3 in /home/mnovikov/miniconda3/envs/NeMo_main/lib/python3.9/site-packages (from nemo_toolkit[all]) (1.26.1)\n",
      "Requirement already satisfied: h5py in /home/mnovikov/miniconda3/envs/NeMo_main/lib/python3.9/site-packages (from nemo_toolkit[all]) (3.7.0)\n",
      "Requirement already satisfied: rapidfuzz in /home/mnovikov/miniconda3/envs/NeMo_main/lib/python3.9/site-packages (from nemo_toolkit[all]) (2.13.0)\n",
      "Requirement already satisfied: gdown in /home/mnovikov/miniconda3/envs/NeMo_main/lib/python3.9/site-packages (from nemo_toolkit[all]) (4.5.3)\n",
      "Requirement already satisfied: sacrebleu[ja] in /home/mnovikov/miniconda3/envs/NeMo_main/lib/python3.9/site-packages (from nemo_toolkit[all]) (2.3.1)\n",
      "Requirement already satisfied: nltk>=3.6.5 in /home/mnovikov/miniconda3/envs/NeMo_main/lib/python3.9/site-packages (from nemo_toolkit[all]) (3.7)\n",
      "Requirement already satisfied: fasttext in /home/mnovikov/miniconda3/envs/NeMo_main/lib/python3.9/site-packages (from nemo_toolkit[all]) (0.9.2)\n",
      "Requirement already satisfied: opencc in /home/mnovikov/miniconda3/envs/NeMo_main/lib/python3.9/site-packages (from nemo_toolkit[all]) (1.1.4)\n",
      "Requirement already satisfied: pangu in /home/mnovikov/miniconda3/envs/NeMo_main/lib/python3.9/site-packages (from nemo_toolkit[all]) (4.0.6.1)\n",
      "Requirement already satisfied: jieba in /home/mnovikov/miniconda3/envs/NeMo_main/lib/python3.9/site-packages (from nemo_toolkit[all]) (0.42.1)\n",
      "Requirement already satisfied: ftfy in /home/mnovikov/miniconda3/envs/NeMo_main/lib/python3.9/site-packages (from nemo_toolkit[all]) (6.1.1)\n",
      "Requirement already satisfied: flask_restful in /home/mnovikov/miniconda3/envs/NeMo_main/lib/python3.9/site-packages (from nemo_toolkit[all]) (0.3.9)\n",
      "Requirement already satisfied: einops in /home/mnovikov/miniconda3/envs/NeMo_main/lib/python3.9/site-packages (from nemo_toolkit[all]) (0.5.0)\n",
      "Requirement already satisfied: ijson in /home/mnovikov/miniconda3/envs/NeMo_main/lib/python3.9/site-packages (from nemo_toolkit[all]) (3.1.4)\n",
      "Requirement already satisfied: faiss-cpu in /home/mnovikov/miniconda3/envs/NeMo_main/lib/python3.9/site-packages (from nemo_toolkit[all]) (1.7.2)\n",
      "Requirement already satisfied: sentence_transformers in /home/mnovikov/miniconda3/envs/NeMo_main/lib/python3.9/site-packages (from nemo_toolkit[all]) (2.2.2)\n",
      "Requirement already satisfied: attrdict in /home/mnovikov/miniconda3/envs/NeMo_main/lib/python3.9/site-packages (from nemo_toolkit[all]) (2.0.1)\n",
      "Requirement already satisfied: pesq in /home/mnovikov/miniconda3/envs/NeMo_main/lib/python3.9/site-packages (from nemo_toolkit[all]) (0.0.4)\n",
      "Requirement already satisfied: pypinyin in /home/mnovikov/miniconda3/envs/NeMo_main/lib/python3.9/site-packages (from nemo_toolkit[all]) (0.47.1)\n",
      "Requirement already satisfied: pystoi in /home/mnovikov/miniconda3/envs/NeMo_main/lib/python3.9/site-packages (from nemo_toolkit[all]) (0.3.3)\n",
      "Requirement already satisfied: progress>=1.5 in /home/mnovikov/miniconda3/envs/NeMo_main/lib/python3.9/site-packages (from nemo_toolkit[all]) (1.6)\n",
      "Requirement already satisfied: tabulate>=0.8.7 in /home/mnovikov/miniconda3/envs/NeMo_main/lib/python3.9/site-packages (from nemo_toolkit[all]) (0.9.0)\n",
      "Requirement already satisfied: textdistance>=4.1.5 in /home/mnovikov/miniconda3/envs/NeMo_main/lib/python3.9/site-packages (from nemo_toolkit[all]) (4.5.0)\n",
      "Requirement already satisfied: jiwer>=2.0.0 in /home/mnovikov/miniconda3/envs/NeMo_main/lib/python3.9/site-packages (from nemo_toolkit[all]) (2.5.1)\n",
      "Requirement already satisfied: typed-ast>=1.4.0 in /home/mnovikov/miniconda3/envs/NeMo_main/lib/python3.9/site-packages (from black==19.10b0->nemo_toolkit[all]) (1.5.4)\n",
      "Requirement already satisfied: toml>=0.9.4 in /home/mnovikov/miniconda3/envs/NeMo_main/lib/python3.9/site-packages (from black==19.10b0->nemo_toolkit[all]) (0.10.2)\n",
      "Requirement already satisfied: pathspec<1,>=0.6 in /home/mnovikov/miniconda3/envs/NeMo_main/lib/python3.9/site-packages (from black==19.10b0->nemo_toolkit[all]) (0.10.1)\n",
      "Requirement already satisfied: attrs>=18.1.0 in /home/mnovikov/miniconda3/envs/NeMo_main/lib/python3.9/site-packages (from black==19.10b0->nemo_toolkit[all]) (21.4.0)\n",
      "Requirement already satisfied: appdirs in /home/mnovikov/miniconda3/envs/NeMo_main/lib/python3.9/site-packages (from black==19.10b0->nemo_toolkit[all]) (1.4.4)\n",
      "Requirement already satisfied: antlr4-python3-runtime==4.8 in /home/mnovikov/miniconda3/envs/NeMo_main/lib/python3.9/site-packages (from hydra-core<1.2,>=1.1.0->nemo_toolkit[all]) (4.8)\n"
     ]
    },
    {
     "name": "stdout",
     "output_type": "stream",
     "text": [
      "Requirement already satisfied: pipreqs in /home/mnovikov/miniconda3/envs/NeMo_main/lib/python3.9/site-packages (from isort[requirements]<5->nemo_toolkit[all]) (0.4.11)\n",
      "Requirement already satisfied: pip-api in /home/mnovikov/miniconda3/envs/NeMo_main/lib/python3.9/site-packages (from isort[requirements]<5->nemo_toolkit[all]) (0.0.30)\n",
      "Requirement already satisfied: levenshtein==0.20.2 in /home/mnovikov/miniconda3/envs/NeMo_main/lib/python3.9/site-packages (from jiwer>=2.0.0->nemo_toolkit[all]) (0.20.2)\n",
      "Requirement already satisfied: joblib>=0.14 in /home/mnovikov/miniconda3/envs/NeMo_main/lib/python3.9/site-packages (from librosa>=0.9.0->nemo_toolkit[all]) (1.2.0)\n",
      "Requirement already satisfied: audioread>=2.1.9 in /home/mnovikov/miniconda3/envs/NeMo_main/lib/python3.9/site-packages (from librosa>=0.9.0->nemo_toolkit[all]) (3.0.0)\n",
      "Requirement already satisfied: pooch>=1.0 in /home/mnovikov/miniconda3/envs/NeMo_main/lib/python3.9/site-packages (from librosa>=0.9.0->nemo_toolkit[all]) (1.6.0)\n",
      "Requirement already satisfied: decorator>=4.0.10 in /home/mnovikov/miniconda3/envs/NeMo_main/lib/python3.9/site-packages (from librosa>=0.9.0->nemo_toolkit[all]) (5.1.1)\n",
      "Requirement already satisfied: resampy>=0.2.2 in /home/mnovikov/miniconda3/envs/NeMo_main/lib/python3.9/site-packages (from librosa>=0.9.0->nemo_toolkit[all]) (0.4.2)\n",
      "Requirement already satisfied: kiwisolver>=1.0.1 in /home/mnovikov/miniconda3/envs/NeMo_main/lib/python3.9/site-packages (from matplotlib->nemo_toolkit[all]) (1.4.4)\n",
      "Requirement already satisfied: contourpy>=1.0.1 in /home/mnovikov/miniconda3/envs/NeMo_main/lib/python3.9/site-packages (from matplotlib->nemo_toolkit[all]) (1.0.6)\n",
      "Requirement already satisfied: fonttools>=4.22.0 in /home/mnovikov/miniconda3/envs/NeMo_main/lib/python3.9/site-packages (from matplotlib->nemo_toolkit[all]) (4.38.0)\n",
      "Requirement already satisfied: pyparsing>=2.2.1 in /home/mnovikov/miniconda3/envs/NeMo_main/lib/python3.9/site-packages (from matplotlib->nemo_toolkit[all]) (3.0.9)\n",
      "Requirement already satisfied: cycler>=0.10 in /home/mnovikov/miniconda3/envs/NeMo_main/lib/python3.9/site-packages (from matplotlib->nemo_toolkit[all]) (0.11.0)\n",
      "Requirement already satisfied: llvmlite<0.40,>=0.39.0dev0 in /home/mnovikov/miniconda3/envs/NeMo_main/lib/python3.9/site-packages (from numba->nemo_toolkit[all]) (0.39.1)\n",
      "Requirement already satisfied: typing-extensions>=3.6.2.1 in /home/mnovikov/miniconda3/envs/NeMo_main/lib/python3.9/site-packages (from onnx>=1.7.0->nemo_toolkit[all]) (4.3.0)\n",
      "Requirement already satisfied: protobuf<=3.20.1,>=3.12.2 in /home/mnovikov/miniconda3/envs/NeMo_main/lib/python3.9/site-packages (from onnx>=1.7.0->nemo_toolkit[all]) (3.19.6)\n",
      "Requirement already satisfied: six>=1.5 in /home/mnovikov/miniconda3/envs/NeMo_main/lib/python3.9/site-packages (from python-dateutil->nemo_toolkit[all]) (1.16.0)\n",
      "Requirement already satisfied: pyDeprecate>=0.3.1 in /home/mnovikov/miniconda3/envs/NeMo_main/lib/python3.9/site-packages (from pytorch-lightning<=1.7.7,>=1.7.0->nemo_toolkit[all]) (0.3.2)\n",
      "Requirement already satisfied: fsspec[http]!=2021.06.0,>=2021.05.0 in /home/mnovikov/miniconda3/envs/NeMo_main/lib/python3.9/site-packages (from pytorch-lightning<=1.7.7,>=1.7.0->nemo_toolkit[all]) (2022.10.0)\n",
      "Requirement already satisfied: tensorboard>=2.9.1 in /home/mnovikov/miniconda3/envs/NeMo_main/lib/python3.9/site-packages (from pytorch-lightning<=1.7.7,>=1.7.0->nemo_toolkit[all]) (2.10.1)\n",
      "Requirement already satisfied: threadpoolctl>=2.0.0 in /home/mnovikov/miniconda3/envs/NeMo_main/lib/python3.9/site-packages (from scikit-learn->nemo_toolkit[all]) (3.1.0)\n",
      "Requirement already satisfied: cffi>=1.0 in /home/mnovikov/miniconda3/envs/NeMo_main/lib/python3.9/site-packages (from soundfile->nemo_toolkit[all]) (1.15.1)\n",
      "Requirement already satisfied: nvidia-cublas-cu11==11.10.3.66 in /home/mnovikov/miniconda3/envs/NeMo_main/lib/python3.9/site-packages (from torch->nemo_toolkit[all]) (11.10.3.66)\n",
      "Requirement already satisfied: nvidia-cudnn-cu11==8.5.0.96 in /home/mnovikov/miniconda3/envs/NeMo_main/lib/python3.9/site-packages (from torch->nemo_toolkit[all]) (8.5.0.96)\n",
      "Requirement already satisfied: nvidia-cuda-nvrtc-cu11==11.7.99 in /home/mnovikov/miniconda3/envs/NeMo_main/lib/python3.9/site-packages (from torch->nemo_toolkit[all]) (11.7.99)\n",
      "Requirement already satisfied: nvidia-cuda-runtime-cu11==11.7.99 in /home/mnovikov/miniconda3/envs/NeMo_main/lib/python3.9/site-packages (from torch->nemo_toolkit[all]) (11.7.99)\n",
      "Requirement already satisfied: wheel in /home/mnovikov/miniconda3/envs/NeMo_main/lib/python3.9/site-packages (from nvidia-cublas-cu11==11.10.3.66->torch->nemo_toolkit[all]) (0.37.1)\n",
      "Requirement already satisfied: requests in /home/mnovikov/miniconda3/envs/NeMo_main/lib/python3.9/site-packages (from transformers<=4.21.2,>=4.0.1->nemo_toolkit[all]) (2.28.1)\n",
      "Requirement already satisfied: tokenizers!=0.11.3,<0.13,>=0.11.1 in /home/mnovikov/miniconda3/envs/NeMo_main/lib/python3.9/site-packages (from transformers<=4.21.2,>=4.0.1->nemo_toolkit[all]) (0.12.1)\n",
      "Requirement already satisfied: filelock in /home/mnovikov/miniconda3/envs/NeMo_main/lib/python3.9/site-packages (from transformers<=4.21.2,>=4.0.1->nemo_toolkit[all]) (3.8.0)\n",
      "Requirement already satisfied: s3transfer<0.7.0,>=0.6.0 in /home/mnovikov/miniconda3/envs/NeMo_main/lib/python3.9/site-packages (from boto3->nemo_toolkit[all]) (0.6.0)\n",
      "Requirement already satisfied: jmespath<2.0.0,>=0.7.1 in /home/mnovikov/miniconda3/envs/NeMo_main/lib/python3.9/site-packages (from boto3->nemo_toolkit[all]) (1.0.1)\n",
      "Requirement already satisfied: botocore<1.30.0,>=1.29.1 in /home/mnovikov/miniconda3/envs/NeMo_main/lib/python3.9/site-packages (from boto3->nemo_toolkit[all]) (1.29.1)\n",
      "Requirement already satisfied: pybind11>=2.2 in /home/mnovikov/miniconda3/envs/NeMo_main/lib/python3.9/site-packages (from fasttext->nemo_toolkit[all]) (2.10.1)\n",
      "Requirement already satisfied: aniso8601>=0.82 in /home/mnovikov/miniconda3/envs/NeMo_main/lib/python3.9/site-packages (from flask_restful->nemo_toolkit[all]) (9.0.1)\n",
      "Requirement already satisfied: Flask>=0.8 in /home/mnovikov/miniconda3/envs/NeMo_main/lib/python3.9/site-packages (from flask_restful->nemo_toolkit[all]) (2.2.2)\n",
      "Requirement already satisfied: pytz in /home/mnovikov/miniconda3/envs/NeMo_main/lib/python3.9/site-packages (from flask_restful->nemo_toolkit[all]) (2022.1)\n",
      "Requirement already satisfied: wcwidth>=0.2.5 in /home/mnovikov/miniconda3/envs/NeMo_main/lib/python3.9/site-packages (from ftfy->nemo_toolkit[all]) (0.2.5)\n",
      "Requirement already satisfied: distance>=0.1.3 in /home/mnovikov/miniconda3/envs/NeMo_main/lib/python3.9/site-packages (from g2p_en->nemo_toolkit[all]) (0.1.3)\n",
      "Requirement already satisfied: pydantic>=1.9.1 in /home/mnovikov/miniconda3/envs/NeMo_main/lib/python3.9/site-packages (from inflect->nemo_toolkit[all]) (1.10.2)\n",
      "Requirement already satisfied: beautifulsoup4 in /home/mnovikov/miniconda3/envs/NeMo_main/lib/python3.9/site-packages (from gdown->nemo_toolkit[all]) (4.11.1)\n",
      "Requirement already satisfied: ipython-genutils~=0.2.0 in /home/mnovikov/miniconda3/envs/NeMo_main/lib/python3.9/site-packages (from ipywidgets->nemo_toolkit[all]) (0.2.0)\n",
      "Requirement already satisfied: traitlets>=4.3.1 in /home/mnovikov/miniconda3/envs/NeMo_main/lib/python3.9/site-packages (from ipywidgets->nemo_toolkit[all]) (5.1.1)\n",
      "Requirement already satisfied: nbformat>=4.2.0 in /home/mnovikov/miniconda3/envs/NeMo_main/lib/python3.9/site-packages (from ipywidgets->nemo_toolkit[all]) (5.5.0)\n",
      "Requirement already satisfied: ipython>=4.0.0 in /home/mnovikov/miniconda3/envs/NeMo_main/lib/python3.9/site-packages (from ipywidgets->nemo_toolkit[all]) (8.4.0)\n",
      "Requirement already satisfied: jupyterlab-widgets>=1.0.0 in /home/mnovikov/miniconda3/envs/NeMo_main/lib/python3.9/site-packages (from ipywidgets->nemo_toolkit[all]) (1.0.0)\n",
      "Requirement already satisfied: ipykernel>=4.5.1 in /home/mnovikov/miniconda3/envs/NeMo_main/lib/python3.9/site-packages (from ipywidgets->nemo_toolkit[all]) (6.15.2)\n",
      "Requirement already satisfied: widgetsnbextension~=3.5.0 in /home/mnovikov/miniconda3/envs/NeMo_main/lib/python3.9/site-packages (from ipywidgets->nemo_toolkit[all]) (3.5.2)\n",
      "Requirement already satisfied: sortedcontainers>=2.0.4 in /home/mnovikov/miniconda3/envs/NeMo_main/lib/python3.9/site-packages (from pyannote.core->nemo_toolkit[all]) (2.4.0)\n",
      "Requirement already satisfied: simplejson>=3.8.1 in /home/mnovikov/miniconda3/envs/NeMo_main/lib/python3.9/site-packages (from pyannote.core->nemo_toolkit[all]) (3.17.6)\n",
      "Requirement already satisfied: pyannote.database>=4.0.1 in /home/mnovikov/miniconda3/envs/NeMo_main/lib/python3.9/site-packages (from pyannote.metrics->nemo_toolkit[all]) (4.1.3)\n",
      "Requirement already satisfied: sympy>=1.1 in /home/mnovikov/miniconda3/envs/NeMo_main/lib/python3.9/site-packages (from pyannote.metrics->nemo_toolkit[all]) (1.11.1)\n",
      "Requirement already satisfied: docopt>=0.6.2 in /home/mnovikov/miniconda3/envs/NeMo_main/lib/python3.9/site-packages (from pyannote.metrics->nemo_toolkit[all]) (0.6.2)\n"
     ]
    },
    {
     "name": "stdout",
     "output_type": "stream",
     "text": [
      "Requirement already satisfied: iniconfig in /home/mnovikov/miniconda3/envs/NeMo_main/lib/python3.9/site-packages (from pytest->nemo_toolkit[all]) (1.1.1)\n",
      "Requirement already satisfied: pluggy<2.0,>=0.12 in /home/mnovikov/miniconda3/envs/NeMo_main/lib/python3.9/site-packages (from pytest->nemo_toolkit[all]) (1.0.0)\n",
      "Requirement already satisfied: exceptiongroup>=1.0.0rc8 in /home/mnovikov/miniconda3/envs/NeMo_main/lib/python3.9/site-packages (from pytest->nemo_toolkit[all]) (1.0.0)\n",
      "Requirement already satisfied: tomli>=1.0.0 in /home/mnovikov/miniconda3/envs/NeMo_main/lib/python3.9/site-packages (from pytest->nemo_toolkit[all]) (2.0.1)\n",
      "Requirement already satisfied: ruamel.yaml.clib>=0.2.6 in /home/mnovikov/miniconda3/envs/NeMo_main/lib/python3.9/site-packages (from ruamel.yaml->nemo_toolkit[all]) (0.2.7)\n",
      "Requirement already satisfied: lxml in /home/mnovikov/miniconda3/envs/NeMo_main/lib/python3.9/site-packages (from sacrebleu[ja]->nemo_toolkit[all]) (4.9.1)\n",
      "Requirement already satisfied: portalocker in /home/mnovikov/miniconda3/envs/NeMo_main/lib/python3.9/site-packages (from sacrebleu[ja]->nemo_toolkit[all]) (2.6.0)\n",
      "Requirement already satisfied: colorama in /home/mnovikov/miniconda3/envs/NeMo_main/lib/python3.9/site-packages (from sacrebleu[ja]->nemo_toolkit[all]) (0.4.6)\n",
      "Requirement already satisfied: mecab-python3==1.0.5 in /home/mnovikov/miniconda3/envs/NeMo_main/lib/python3.9/site-packages (from sacrebleu[ja]->nemo_toolkit[all]) (1.0.5)\n",
      "Requirement already satisfied: ipadic<2.0,>=1.0 in /home/mnovikov/miniconda3/envs/NeMo_main/lib/python3.9/site-packages (from sacrebleu[ja]->nemo_toolkit[all]) (1.0.0)\n",
      "Requirement already satisfied: sphinxcontrib-qthelp in /home/mnovikov/miniconda3/envs/NeMo_main/lib/python3.9/site-packages (from sphinx->nemo_toolkit[all]) (1.0.3)\n",
      "Requirement already satisfied: Jinja2>=3.0 in /home/mnovikov/miniconda3/envs/NeMo_main/lib/python3.9/site-packages (from sphinx->nemo_toolkit[all]) (3.1.2)\n",
      "Requirement already satisfied: alabaster<0.8,>=0.7 in /home/mnovikov/miniconda3/envs/NeMo_main/lib/python3.9/site-packages (from sphinx->nemo_toolkit[all]) (0.7.12)\n",
      "Requirement already satisfied: Pygments>=2.12 in /home/mnovikov/miniconda3/envs/NeMo_main/lib/python3.9/site-packages (from sphinx->nemo_toolkit[all]) (2.13.0)\n",
      "Requirement already satisfied: importlib-metadata>=4.8 in /home/mnovikov/miniconda3/envs/NeMo_main/lib/python3.9/site-packages (from sphinx->nemo_toolkit[all]) (4.11.3)\n",
      "Requirement already satisfied: sphinxcontrib-devhelp in /home/mnovikov/miniconda3/envs/NeMo_main/lib/python3.9/site-packages (from sphinx->nemo_toolkit[all]) (1.0.2)\n",
      "Requirement already satisfied: sphinxcontrib-serializinghtml>=1.1.5 in /home/mnovikov/miniconda3/envs/NeMo_main/lib/python3.9/site-packages (from sphinx->nemo_toolkit[all]) (1.1.5)\n",
      "Requirement already satisfied: docutils<0.20,>=0.14 in /home/mnovikov/miniconda3/envs/NeMo_main/lib/python3.9/site-packages (from sphinx->nemo_toolkit[all]) (0.19)\n",
      "Requirement already satisfied: snowballstemmer>=2.0 in /home/mnovikov/miniconda3/envs/NeMo_main/lib/python3.9/site-packages (from sphinx->nemo_toolkit[all]) (2.2.0)\n",
      "Requirement already satisfied: sphinxcontrib-htmlhelp>=2.0.0 in /home/mnovikov/miniconda3/envs/NeMo_main/lib/python3.9/site-packages (from sphinx->nemo_toolkit[all]) (2.0.0)\n",
      "Requirement already satisfied: sphinxcontrib-applehelp in /home/mnovikov/miniconda3/envs/NeMo_main/lib/python3.9/site-packages (from sphinx->nemo_toolkit[all]) (1.0.2)\n",
      "Requirement already satisfied: sphinxcontrib-jsmath in /home/mnovikov/miniconda3/envs/NeMo_main/lib/python3.9/site-packages (from sphinx->nemo_toolkit[all]) (1.0.1)\n",
      "Requirement already satisfied: babel>=2.9 in /home/mnovikov/miniconda3/envs/NeMo_main/lib/python3.9/site-packages (from sphinx->nemo_toolkit[all]) (2.9.1)\n",
      "Requirement already satisfied: imagesize>=1.3 in /home/mnovikov/miniconda3/envs/NeMo_main/lib/python3.9/site-packages (from sphinx->nemo_toolkit[all]) (1.4.1)\n",
      "Requirement already satisfied: pybtex-docutils>=1.0.0 in /home/mnovikov/miniconda3/envs/NeMo_main/lib/python3.9/site-packages (from sphinxcontrib-bibtex->nemo_toolkit[all]) (1.0.2)\n",
      "Requirement already satisfied: pybtex>=0.24 in /home/mnovikov/miniconda3/envs/NeMo_main/lib/python3.9/site-packages (from sphinxcontrib-bibtex->nemo_toolkit[all]) (0.24.0)\n",
      "Requirement already satisfied: termcolor in /home/mnovikov/miniconda3/envs/NeMo_main/lib/python3.9/site-packages (from texterrors->nemo_toolkit[all]) (2.1.0)\n",
      "Requirement already satisfied: plac in /home/mnovikov/miniconda3/envs/NeMo_main/lib/python3.9/site-packages (from texterrors->nemo_toolkit[all]) (1.3.5)\n",
      "Requirement already satisfied: loguru in /home/mnovikov/miniconda3/envs/NeMo_main/lib/python3.9/site-packages (from texterrors->nemo_toolkit[all]) (0.6.0)\n",
      "Requirement already satisfied: promise<3,>=2.0 in /home/mnovikov/miniconda3/envs/NeMo_main/lib/python3.9/site-packages (from wandb->nemo_toolkit[all]) (2.3)\n",
      "Requirement already satisfied: sentry-sdk>=1.0.0 in /home/mnovikov/miniconda3/envs/NeMo_main/lib/python3.9/site-packages (from wandb->nemo_toolkit[all]) (1.10.1)\n",
      "Requirement already satisfied: pathtools in /home/mnovikov/miniconda3/envs/NeMo_main/lib/python3.9/site-packages (from wandb->nemo_toolkit[all]) (0.1.2)\n",
      "Requirement already satisfied: docker-pycreds>=0.4.0 in /home/mnovikov/miniconda3/envs/NeMo_main/lib/python3.9/site-packages (from wandb->nemo_toolkit[all]) (0.4.0)\n",
      "Requirement already satisfied: shortuuid>=0.5.0 in /home/mnovikov/miniconda3/envs/NeMo_main/lib/python3.9/site-packages (from wandb->nemo_toolkit[all]) (1.0.9)\n",
      "Requirement already satisfied: setproctitle in /home/mnovikov/miniconda3/envs/NeMo_main/lib/python3.9/site-packages (from wandb->nemo_toolkit[all]) (1.3.2)\n",
      "Requirement already satisfied: psutil>=5.0.0 in /home/mnovikov/miniconda3/envs/NeMo_main/lib/python3.9/site-packages (from wandb->nemo_toolkit[all]) (5.9.0)\n",
      "Requirement already satisfied: GitPython>=1.0.0 in /home/mnovikov/miniconda3/envs/NeMo_main/lib/python3.9/site-packages (from wandb->nemo_toolkit[all]) (3.1.29)\n",
      "Requirement already satisfied: urllib3<1.27,>=1.25.4 in /home/mnovikov/miniconda3/envs/NeMo_main/lib/python3.9/site-packages (from botocore<1.30.0,>=1.29.1->boto3->nemo_toolkit[all]) (1.26.12)\n",
      "Requirement already satisfied: pycparser in /home/mnovikov/miniconda3/envs/NeMo_main/lib/python3.9/site-packages (from cffi>=1.0->soundfile->nemo_toolkit[all]) (2.21)\n",
      "Requirement already satisfied: itsdangerous>=2.0 in /home/mnovikov/miniconda3/envs/NeMo_main/lib/python3.9/site-packages (from Flask>=0.8->flask_restful->nemo_toolkit[all]) (2.1.2)\n",
      "Requirement already satisfied: Werkzeug>=2.2.2 in /home/mnovikov/miniconda3/envs/NeMo_main/lib/python3.9/site-packages (from Flask>=0.8->flask_restful->nemo_toolkit[all]) (2.2.2)\n",
      "Requirement already satisfied: aiohttp!=4.0.0a0,!=4.0.0a1 in /home/mnovikov/miniconda3/envs/NeMo_main/lib/python3.9/site-packages (from fsspec[http]!=2021.06.0,>=2021.05.0->pytorch-lightning<=1.7.7,>=1.7.0->nemo_toolkit[all]) (3.8.3)\n",
      "Requirement already satisfied: gitdb<5,>=4.0.1 in /home/mnovikov/miniconda3/envs/NeMo_main/lib/python3.9/site-packages (from GitPython>=1.0.0->wandb->nemo_toolkit[all]) (4.0.9)\n",
      "Requirement already satisfied: zipp>=0.5 in /home/mnovikov/miniconda3/envs/NeMo_main/lib/python3.9/site-packages (from importlib-metadata>=4.8->sphinx->nemo_toolkit[all]) (3.8.0)\n",
      "Requirement already satisfied: matplotlib-inline>=0.1 in /home/mnovikov/miniconda3/envs/NeMo_main/lib/python3.9/site-packages (from ipykernel>=4.5.1->ipywidgets->nemo_toolkit[all]) (0.1.6)\n",
      "Requirement already satisfied: jupyter-client>=6.1.12 in /home/mnovikov/miniconda3/envs/NeMo_main/lib/python3.9/site-packages (from ipykernel>=4.5.1->ipywidgets->nemo_toolkit[all]) (7.3.5)\n",
      "Requirement already satisfied: pyzmq>=17 in /home/mnovikov/miniconda3/envs/NeMo_main/lib/python3.9/site-packages (from ipykernel>=4.5.1->ipywidgets->nemo_toolkit[all]) (23.2.0)\n",
      "Requirement already satisfied: tornado>=6.1 in /home/mnovikov/miniconda3/envs/NeMo_main/lib/python3.9/site-packages (from ipykernel>=4.5.1->ipywidgets->nemo_toolkit[all]) (6.2)\n",
      "Requirement already satisfied: debugpy>=1.0 in /home/mnovikov/miniconda3/envs/NeMo_main/lib/python3.9/site-packages (from ipykernel>=4.5.1->ipywidgets->nemo_toolkit[all]) (1.5.1)\n",
      "Requirement already satisfied: nest-asyncio in /home/mnovikov/miniconda3/envs/NeMo_main/lib/python3.9/site-packages (from ipykernel>=4.5.1->ipywidgets->nemo_toolkit[all]) (1.5.5)\n"
     ]
    },
    {
     "name": "stdout",
     "output_type": "stream",
     "text": [
      "Requirement already satisfied: stack-data in /home/mnovikov/miniconda3/envs/NeMo_main/lib/python3.9/site-packages (from ipython>=4.0.0->ipywidgets->nemo_toolkit[all]) (0.2.0)\n",
      "Requirement already satisfied: jedi>=0.16 in /home/mnovikov/miniconda3/envs/NeMo_main/lib/python3.9/site-packages (from ipython>=4.0.0->ipywidgets->nemo_toolkit[all]) (0.18.1)\n",
      "Requirement already satisfied: pickleshare in /home/mnovikov/miniconda3/envs/NeMo_main/lib/python3.9/site-packages (from ipython>=4.0.0->ipywidgets->nemo_toolkit[all]) (0.7.5)\n",
      "Requirement already satisfied: pexpect>4.3 in /home/mnovikov/miniconda3/envs/NeMo_main/lib/python3.9/site-packages (from ipython>=4.0.0->ipywidgets->nemo_toolkit[all]) (4.8.0)\n",
      "Requirement already satisfied: backcall in /home/mnovikov/miniconda3/envs/NeMo_main/lib/python3.9/site-packages (from ipython>=4.0.0->ipywidgets->nemo_toolkit[all]) (0.2.0)\n",
      "Requirement already satisfied: prompt-toolkit!=3.0.0,!=3.0.1,<3.1.0,>=2.0.0 in /home/mnovikov/miniconda3/envs/NeMo_main/lib/python3.9/site-packages (from ipython>=4.0.0->ipywidgets->nemo_toolkit[all]) (3.0.20)\n",
      "Requirement already satisfied: MarkupSafe>=2.0 in /home/mnovikov/miniconda3/envs/NeMo_main/lib/python3.9/site-packages (from Jinja2>=3.0->sphinx->nemo_toolkit[all]) (2.1.1)\n",
      "Requirement already satisfied: fastjsonschema in /home/mnovikov/miniconda3/envs/NeMo_main/lib/python3.9/site-packages (from nbformat>=4.2.0->ipywidgets->nemo_toolkit[all]) (2.16.2)\n",
      "Requirement already satisfied: jsonschema>=2.6 in /home/mnovikov/miniconda3/envs/NeMo_main/lib/python3.9/site-packages (from nbformat>=4.2.0->ipywidgets->nemo_toolkit[all]) (4.16.0)\n",
      "Requirement already satisfied: jupyter_core in /home/mnovikov/miniconda3/envs/NeMo_main/lib/python3.9/site-packages (from nbformat>=4.2.0->ipywidgets->nemo_toolkit[all]) (4.11.1)\n",
      "Requirement already satisfied: typer[all]>=0.2.1 in /home/mnovikov/miniconda3/envs/NeMo_main/lib/python3.9/site-packages (from pyannote.database>=4.0.1->pyannote.metrics->nemo_toolkit[all]) (0.6.1)\n",
      "Requirement already satisfied: latexcodec>=1.0.4 in /home/mnovikov/miniconda3/envs/NeMo_main/lib/python3.9/site-packages (from pybtex>=0.24->sphinxcontrib-bibtex->nemo_toolkit[all]) (2.0.1)\n",
      "Requirement already satisfied: certifi>=2017.4.17 in /home/mnovikov/miniconda3/envs/NeMo_main/lib/python3.9/site-packages (from requests->transformers<=4.21.2,>=4.0.1->nemo_toolkit[all]) (2022.9.24)\n",
      "Requirement already satisfied: charset-normalizer<3,>=2 in /home/mnovikov/miniconda3/envs/NeMo_main/lib/python3.9/site-packages (from requests->transformers<=4.21.2,>=4.0.1->nemo_toolkit[all]) (2.0.4)\n",
      "Requirement already satisfied: idna<4,>=2.5 in /home/mnovikov/miniconda3/envs/NeMo_main/lib/python3.9/site-packages (from requests->transformers<=4.21.2,>=4.0.1->nemo_toolkit[all]) (3.4)\n",
      "Requirement already satisfied: mpmath>=0.19 in /home/mnovikov/miniconda3/envs/NeMo_main/lib/python3.9/site-packages (from sympy>=1.1->pyannote.metrics->nemo_toolkit[all]) (1.2.1)\n",
      "Requirement already satisfied: absl-py>=0.4 in /home/mnovikov/miniconda3/envs/NeMo_main/lib/python3.9/site-packages (from tensorboard>=2.9.1->pytorch-lightning<=1.7.7,>=1.7.0->nemo_toolkit[all]) (1.3.0)\n",
      "Requirement already satisfied: tensorboard-data-server<0.7.0,>=0.6.0 in /home/mnovikov/miniconda3/envs/NeMo_main/lib/python3.9/site-packages (from tensorboard>=2.9.1->pytorch-lightning<=1.7.7,>=1.7.0->nemo_toolkit[all]) (0.6.1)\n",
      "Requirement already satisfied: google-auth-oauthlib<0.5,>=0.4.1 in /home/mnovikov/miniconda3/envs/NeMo_main/lib/python3.9/site-packages (from tensorboard>=2.9.1->pytorch-lightning<=1.7.7,>=1.7.0->nemo_toolkit[all]) (0.4.6)\n",
      "Requirement already satisfied: tensorboard-plugin-wit>=1.6.0 in /home/mnovikov/miniconda3/envs/NeMo_main/lib/python3.9/site-packages (from tensorboard>=2.9.1->pytorch-lightning<=1.7.7,>=1.7.0->nemo_toolkit[all]) (1.8.1)\n",
      "Requirement already satisfied: grpcio>=1.24.3 in /home/mnovikov/miniconda3/envs/NeMo_main/lib/python3.9/site-packages (from tensorboard>=2.9.1->pytorch-lightning<=1.7.7,>=1.7.0->nemo_toolkit[all]) (1.50.0)\n",
      "Requirement already satisfied: markdown>=2.6.8 in /home/mnovikov/miniconda3/envs/NeMo_main/lib/python3.9/site-packages (from tensorboard>=2.9.1->pytorch-lightning<=1.7.7,>=1.7.0->nemo_toolkit[all]) (3.4.1)\n",
      "Requirement already satisfied: google-auth<3,>=1.6.3 in /home/mnovikov/miniconda3/envs/NeMo_main/lib/python3.9/site-packages (from tensorboard>=2.9.1->pytorch-lightning<=1.7.7,>=1.7.0->nemo_toolkit[all]) (2.14.0)\n",
      "Requirement already satisfied: notebook>=4.4.1 in /home/mnovikov/miniconda3/envs/NeMo_main/lib/python3.9/site-packages (from widgetsnbextension~=3.5.0->ipywidgets->nemo_toolkit[all]) (6.4.12)\n",
      "Requirement already satisfied: soupsieve>1.2 in /home/mnovikov/miniconda3/envs/NeMo_main/lib/python3.9/site-packages (from beautifulsoup4->gdown->nemo_toolkit[all]) (2.3.2.post1)\n",
      "Requirement already satisfied: pip in /home/mnovikov/miniconda3/envs/NeMo_main/lib/python3.9/site-packages (from pip-api->isort[requirements]<5->nemo_toolkit[all]) (22.2.2)\n",
      "Requirement already satisfied: yarg in /home/mnovikov/miniconda3/envs/NeMo_main/lib/python3.9/site-packages (from pipreqs->isort[requirements]<5->nemo_toolkit[all]) (0.1.9)\n",
      "Requirement already satisfied: PySocks!=1.5.7,>=1.5.6 in /home/mnovikov/miniconda3/envs/NeMo_main/lib/python3.9/site-packages (from requests->transformers<=4.21.2,>=4.0.1->nemo_toolkit[all]) (1.7.1)\n",
      "Requirement already satisfied: multidict<7.0,>=4.5 in /home/mnovikov/miniconda3/envs/NeMo_main/lib/python3.9/site-packages (from aiohttp!=4.0.0a0,!=4.0.0a1->fsspec[http]!=2021.06.0,>=2021.05.0->pytorch-lightning<=1.7.7,>=1.7.0->nemo_toolkit[all]) (6.0.2)\n",
      "Requirement already satisfied: async-timeout<5.0,>=4.0.0a3 in /home/mnovikov/miniconda3/envs/NeMo_main/lib/python3.9/site-packages (from aiohttp!=4.0.0a0,!=4.0.0a1->fsspec[http]!=2021.06.0,>=2021.05.0->pytorch-lightning<=1.7.7,>=1.7.0->nemo_toolkit[all]) (4.0.2)\n",
      "Requirement already satisfied: aiosignal>=1.1.2 in /home/mnovikov/miniconda3/envs/NeMo_main/lib/python3.9/site-packages (from aiohttp!=4.0.0a0,!=4.0.0a1->fsspec[http]!=2021.06.0,>=2021.05.0->pytorch-lightning<=1.7.7,>=1.7.0->nemo_toolkit[all]) (1.2.0)\n",
      "Requirement already satisfied: frozenlist>=1.1.1 in /home/mnovikov/miniconda3/envs/NeMo_main/lib/python3.9/site-packages (from aiohttp!=4.0.0a0,!=4.0.0a1->fsspec[http]!=2021.06.0,>=2021.05.0->pytorch-lightning<=1.7.7,>=1.7.0->nemo_toolkit[all]) (1.3.1)\n",
      "Requirement already satisfied: yarl<2.0,>=1.0 in /home/mnovikov/miniconda3/envs/NeMo_main/lib/python3.9/site-packages (from aiohttp!=4.0.0a0,!=4.0.0a1->fsspec[http]!=2021.06.0,>=2021.05.0->pytorch-lightning<=1.7.7,>=1.7.0->nemo_toolkit[all]) (1.8.1)\n",
      "Requirement already satisfied: smmap<6,>=3.0.1 in /home/mnovikov/miniconda3/envs/NeMo_main/lib/python3.9/site-packages (from gitdb<5,>=4.0.1->GitPython>=1.0.0->wandb->nemo_toolkit[all]) (5.0.0)\n",
      "Requirement already satisfied: pyasn1-modules>=0.2.1 in /home/mnovikov/miniconda3/envs/NeMo_main/lib/python3.9/site-packages (from google-auth<3,>=1.6.3->tensorboard>=2.9.1->pytorch-lightning<=1.7.7,>=1.7.0->nemo_toolkit[all]) (0.2.8)\n",
      "Requirement already satisfied: cachetools<6.0,>=2.0.0 in /home/mnovikov/miniconda3/envs/NeMo_main/lib/python3.9/site-packages (from google-auth<3,>=1.6.3->tensorboard>=2.9.1->pytorch-lightning<=1.7.7,>=1.7.0->nemo_toolkit[all]) (5.2.0)\n",
      "Requirement already satisfied: rsa<5,>=3.1.4 in /home/mnovikov/miniconda3/envs/NeMo_main/lib/python3.9/site-packages (from google-auth<3,>=1.6.3->tensorboard>=2.9.1->pytorch-lightning<=1.7.7,>=1.7.0->nemo_toolkit[all]) (4.9)\n",
      "Requirement already satisfied: requests-oauthlib>=0.7.0 in /home/mnovikov/miniconda3/envs/NeMo_main/lib/python3.9/site-packages (from google-auth-oauthlib<0.5,>=0.4.1->tensorboard>=2.9.1->pytorch-lightning<=1.7.7,>=1.7.0->nemo_toolkit[all]) (1.3.1)\n",
      "Requirement already satisfied: parso<0.9.0,>=0.8.0 in /home/mnovikov/miniconda3/envs/NeMo_main/lib/python3.9/site-packages (from jedi>=0.16->ipython>=4.0.0->ipywidgets->nemo_toolkit[all]) (0.8.3)\n",
      "Requirement already satisfied: pyrsistent!=0.17.0,!=0.17.1,!=0.17.2,>=0.14.0 in /home/mnovikov/miniconda3/envs/NeMo_main/lib/python3.9/site-packages (from jsonschema>=2.6->nbformat>=4.2.0->ipywidgets->nemo_toolkit[all]) (0.18.0)\n",
      "Requirement already satisfied: entrypoints in /home/mnovikov/miniconda3/envs/NeMo_main/lib/python3.9/site-packages (from jupyter-client>=6.1.12->ipykernel>=4.5.1->ipywidgets->nemo_toolkit[all]) (0.4)\n"
     ]
    },
    {
     "name": "stdout",
     "output_type": "stream",
     "text": [
      "Requirement already satisfied: argon2-cffi in /home/mnovikov/miniconda3/envs/NeMo_main/lib/python3.9/site-packages (from notebook>=4.4.1->widgetsnbextension~=3.5.0->ipywidgets->nemo_toolkit[all]) (21.3.0)\n",
      "Requirement already satisfied: prometheus-client in /home/mnovikov/miniconda3/envs/NeMo_main/lib/python3.9/site-packages (from notebook>=4.4.1->widgetsnbextension~=3.5.0->ipywidgets->nemo_toolkit[all]) (0.14.1)\n",
      "Requirement already satisfied: nbconvert>=5 in /home/mnovikov/miniconda3/envs/NeMo_main/lib/python3.9/site-packages (from notebook>=4.4.1->widgetsnbextension~=3.5.0->ipywidgets->nemo_toolkit[all]) (6.4.4)\n",
      "Requirement already satisfied: terminado>=0.8.3 in /home/mnovikov/miniconda3/envs/NeMo_main/lib/python3.9/site-packages (from notebook>=4.4.1->widgetsnbextension~=3.5.0->ipywidgets->nemo_toolkit[all]) (0.13.1)\n",
      "Requirement already satisfied: Send2Trash>=1.8.0 in /home/mnovikov/miniconda3/envs/NeMo_main/lib/python3.9/site-packages (from notebook>=4.4.1->widgetsnbextension~=3.5.0->ipywidgets->nemo_toolkit[all]) (1.8.0)\n",
      "Requirement already satisfied: ptyprocess>=0.5 in /home/mnovikov/miniconda3/envs/NeMo_main/lib/python3.9/site-packages (from pexpect>4.3->ipython>=4.0.0->ipywidgets->nemo_toolkit[all]) (0.7.0)\n",
      "Requirement already satisfied: shellingham<2.0.0,>=1.3.0 in /home/mnovikov/miniconda3/envs/NeMo_main/lib/python3.9/site-packages (from typer[all]>=0.2.1->pyannote.database>=4.0.1->pyannote.metrics->nemo_toolkit[all]) (1.5.0)\n",
      "Requirement already satisfied: rich<13.0.0,>=10.11.0 in /home/mnovikov/miniconda3/envs/NeMo_main/lib/python3.9/site-packages (from typer[all]>=0.2.1->pyannote.database>=4.0.1->pyannote.metrics->nemo_toolkit[all]) (12.6.0)\n",
      "Requirement already satisfied: asttokens in /home/mnovikov/miniconda3/envs/NeMo_main/lib/python3.9/site-packages (from stack-data->ipython>=4.0.0->ipywidgets->nemo_toolkit[all]) (2.0.5)\n",
      "Requirement already satisfied: pure-eval in /home/mnovikov/miniconda3/envs/NeMo_main/lib/python3.9/site-packages (from stack-data->ipython>=4.0.0->ipywidgets->nemo_toolkit[all]) (0.2.2)\n",
      "Requirement already satisfied: executing in /home/mnovikov/miniconda3/envs/NeMo_main/lib/python3.9/site-packages (from stack-data->ipython>=4.0.0->ipywidgets->nemo_toolkit[all]) (1.2.0)\n",
      "Requirement already satisfied: pandocfilters>=1.4.1 in /home/mnovikov/miniconda3/envs/NeMo_main/lib/python3.9/site-packages (from nbconvert>=5->notebook>=4.4.1->widgetsnbextension~=3.5.0->ipywidgets->nemo_toolkit[all]) (1.5.0)\n",
      "Requirement already satisfied: nbclient<0.6.0,>=0.5.0 in /home/mnovikov/miniconda3/envs/NeMo_main/lib/python3.9/site-packages (from nbconvert>=5->notebook>=4.4.1->widgetsnbextension~=3.5.0->ipywidgets->nemo_toolkit[all]) (0.5.13)\n",
      "Requirement already satisfied: testpath in /home/mnovikov/miniconda3/envs/NeMo_main/lib/python3.9/site-packages (from nbconvert>=5->notebook>=4.4.1->widgetsnbextension~=3.5.0->ipywidgets->nemo_toolkit[all]) (0.6.0)\n",
      "Requirement already satisfied: bleach in /home/mnovikov/miniconda3/envs/NeMo_main/lib/python3.9/site-packages (from nbconvert>=5->notebook>=4.4.1->widgetsnbextension~=3.5.0->ipywidgets->nemo_toolkit[all]) (4.1.0)\n",
      "Requirement already satisfied: mistune<2,>=0.8.1 in /home/mnovikov/miniconda3/envs/NeMo_main/lib/python3.9/site-packages (from nbconvert>=5->notebook>=4.4.1->widgetsnbextension~=3.5.0->ipywidgets->nemo_toolkit[all]) (0.8.4)\n",
      "Requirement already satisfied: defusedxml in /home/mnovikov/miniconda3/envs/NeMo_main/lib/python3.9/site-packages (from nbconvert>=5->notebook>=4.4.1->widgetsnbextension~=3.5.0->ipywidgets->nemo_toolkit[all]) (0.7.1)\n",
      "Requirement already satisfied: jupyterlab-pygments in /home/mnovikov/miniconda3/envs/NeMo_main/lib/python3.9/site-packages (from nbconvert>=5->notebook>=4.4.1->widgetsnbextension~=3.5.0->ipywidgets->nemo_toolkit[all]) (0.1.2)\n",
      "Requirement already satisfied: pyasn1<0.5.0,>=0.4.6 in /home/mnovikov/miniconda3/envs/NeMo_main/lib/python3.9/site-packages (from pyasn1-modules>=0.2.1->google-auth<3,>=1.6.3->tensorboard>=2.9.1->pytorch-lightning<=1.7.7,>=1.7.0->nemo_toolkit[all]) (0.4.8)\n",
      "Requirement already satisfied: oauthlib>=3.0.0 in /home/mnovikov/miniconda3/envs/NeMo_main/lib/python3.9/site-packages (from requests-oauthlib>=0.7.0->google-auth-oauthlib<0.5,>=0.4.1->tensorboard>=2.9.1->pytorch-lightning<=1.7.7,>=1.7.0->nemo_toolkit[all]) (3.2.2)\n",
      "Requirement already satisfied: commonmark<0.10.0,>=0.9.0 in /home/mnovikov/miniconda3/envs/NeMo_main/lib/python3.9/site-packages (from rich<13.0.0,>=10.11.0->typer[all]>=0.2.1->pyannote.database>=4.0.1->pyannote.metrics->nemo_toolkit[all]) (0.9.1)\n",
      "Requirement already satisfied: argon2-cffi-bindings in /home/mnovikov/miniconda3/envs/NeMo_main/lib/python3.9/site-packages (from argon2-cffi->notebook>=4.4.1->widgetsnbextension~=3.5.0->ipywidgets->nemo_toolkit[all]) (21.2.0)\n",
      "Requirement already satisfied: webencodings in /home/mnovikov/miniconda3/envs/NeMo_main/lib/python3.9/site-packages (from bleach->nbconvert>=5->notebook>=4.4.1->widgetsnbextension~=3.5.0->ipywidgets->nemo_toolkit[all]) (0.5.1)\n"
     ]
    }
   ],
   "source": [
    "\"\"\"\n",
    "You can run either this notebook locally (if you have all the dependencies and a GPU) or on Google Colab.\n",
    "\n",
    "Instructions for setting up Colab are as follows:\n",
    "1. Open a new Python 3 notebook.\n",
    "2. Import this notebook from GitHub (File -> Upload Notebook -> \"GITHUB\" tab -> copy/paste GitHub URL)\n",
    "3. Connect to an instance with a GPU (Runtime -> Change runtime type -> select \"GPU\" for hardware accelerator)\n",
    "4. Run this cell to set up dependencies.\n",
    "\"\"\"\n",
    "# If you're using Google Colab and not running locally, run this cell\n",
    "\n",
    "# install NeMo\n",
    "!python -m pip install git+https://github.com/NVIDIA/NeMo.git@$BRANCH#egg=nemo_toolkit[all]"
   ]
  },
  {
   "cell_type": "code",
   "execution_count": null,
   "metadata": {
    "pycharm": {
     "name": "#%%\n"
    }
   },
   "outputs": [],
   "source": [
    "# If you're not using Colab, you might need to upgrade jupyter notebook to avoid the following error:\n",
    "# 'ImportError: IProgress not found. Please update jupyter and ipywidgets.'\n",
    "\n",
    "! pip install ipywidgets\n",
    "! jupyter nbextension enable --py widgetsnbextension\n",
    "\n",
    "# Please restart the kernel after running this cell"
   ]
  },
  {
   "cell_type": "code",
   "execution_count": 3,
   "metadata": {
    "pycharm": {
     "name": "#%%\n"
    }
   },
   "outputs": [
    {
     "name": "stderr",
     "output_type": "stream",
     "text": [
      "[NeMo W 2022-11-03 05:00:48 optimizers:55] Apex was not found. Using the lamb or fused_adam optimizer will error out.\n",
      "[NeMo W 2022-11-03 05:00:48 experimental:27] Module <class 'nemo.collections.nlp.data.language_modeling.megatron.megatron_batch_samplers.MegatronPretrainingRandomBatchSampler'> is experimental, not ready for production and is not fully supported. Use at your own risk.\n",
      "[NeMo W 2022-11-03 05:00:49 experimental:27] Module <class 'nemo.collections.nlp.models.text_normalization_as_tagging.thutmose_tagger.ThutmoseTaggerModel'> is experimental, not ready for production and is not fully supported. Use at your own risk.\n"
     ]
    }
   ],
   "source": [
    "from nemo.utils.exp_manager import exp_manager\n",
    "from nemo.collections import nlp as nemo_nlp\n",
    "from nemo.collections import asr as nemo_asr\n",
    "\n",
    "import os\n",
    "import wget\n",
    "import torch\n",
    "import pytorch_lightning as pl\n",
    "from omegaconf import OmegaConf"
   ]
  },
  {
   "cell_type": "markdown",
   "metadata": {
    "pycharm": {
     "name": "#%% md\n"
    }
   },
   "source": [
    "# Task Description\n",
    "Automatic Speech Recognition (ASR) systems typically generate text with no punctuation and capitalization of the words.\n",
    "This tutorial explains how to implement a model in NeMo that will predict punctuation and capitalization using both text and audio for each word in a sentence to make ASR output more readable and to boost performance of the named entity recognition, machine translation or text-to-speech models. You can find documentation on text only model [here](https://docs.nvidia.com/deeplearning/nemo/user-guide/docs/en/stable/nlp/punctuation_and_capitalization.html).\n",
    "\n",
    "\n",
    "We'll show how to train a model for this task using a pre-trained [BERT](https://arxiv.org/abs/1810.04805) and [Conformer](https://arxiv.org/abs/2005.08100) models. You can find all pretrained Conformer models on [NGC](https://catalog.ngc.nvidia.com/models?filters=&orderBy=dateModifiedDESC&query=conformer).\n",
    "\n",
    "For every word in our training dataset we’re going to predict:\n",
    "\n",
    "- punctuation mark that should follow the word and\n",
    "- whether the word should be capitalized\n",
    "\n",
    "\n",
    "In some cases lexical only model can't predict punctuation correctly without audio. It is especially hard for conversational speech.\n",
    "\n",
    "For example:\n",
    "\n",
    "- Yeah, over there you walk a lot. -> Yeah, over there you walk a lot?\n",
    "- Supposedly eighty five percent of your body's liquid, but, you know, just a hassle. -> Supposedly, eighty five percent of your body's liquid. But, you know just a hassle.\n",
    "- Oh, yeah? -> Oh, yeah.\n"
   ]
  },
  {
   "cell_type": "markdown",
   "metadata": {
    "pycharm": {
     "name": "#%% md\n"
    }
   },
   "source": [
    "## Architecture\n",
    "Punctuation and capitalization lexical audio model is based on [Multimodal Semi-supervised Learning Framework for Punctuation Prediction in Conversational Speech](https://arxiv.org/pdf/2008.00702.pdf). Model consists of lexical encoder (BERT-like model), acoustic encoder (i.e. Conformer's audio encoder), fusion of lexical and audio features (attention based fusion) and prediction layers.\n",
    "\n",
    "Fusion is needed because encoded text and audio might have different length therefore can't be aligned one-to-one. As model predicts punctuation and capitalization per text token we use cross-attention between encoded lexical and encoded audio input."
   ]
  },
  {
   "cell_type": "markdown",
   "metadata": {
    "pycharm": {
     "name": "#%% md\n"
    }
   },
   "source": [
    "# Dataset\n",
    "This model can work with any dataset as long as it follows the format specified below.\n",
    "The training and evaluation data is divided into *3 files: text.txt, labels.txt and audio.txt*.\n",
    "Each line of the **text.txt** file contains text sequences, where words are separated with spaces: [WORD] [SPACE] [WORD] [SPACE] [WORD], for example:"
   ]
  },
  {
   "cell_type": "markdown",
   "metadata": {
    "pycharm": {
     "name": "#%% md\n"
    }
   },
   "source": [
    "\n",
    "\n",
    "```\n",
    "when is the next flight to new york\n",
    "the next flight is ...\n",
    "...\n",
    "```\n"
   ]
  },
  {
   "cell_type": "markdown",
   "metadata": {
    "pycharm": {
     "name": "#%% md\n"
    }
   },
   "source": [
    "The **labels.txt** file contains corresponding labels for each word in text.txt, the labels are separated with spaces. Each label in labels.txt file consists of 2 symbols:\n",
    "\n",
    "- the first symbol of the label indicates what punctuation mark should follow the word (where O means no punctuation needed);\n",
    "- the second symbol determines if a word needs to be capitalized or not (where U indicates that the word should be upper cased, and O - no capitalization needed.)\n",
    "\n",
    "In this tutorial, we are considering only commas, periods, and question marks the rest punctuation marks were removed. To use more punctuation marks, update the dataset to include desired labels, no changes to the model needed.\n",
    "\n",
    "Each line of the **labels.txt** should follow the format:\n",
    "[LABEL] [SPACE] [LABEL] [SPACE] [LABEL] (for labels.txt).\n",
    "For example, labels for the above text.txt file should be:"
   ]
  },
  {
   "cell_type": "markdown",
   "metadata": {
    "pycharm": {
     "name": "#%% md\n"
    }
   },
   "source": [
    "\n",
    "\n",
    "```\n",
    "OU OO OO OO OO OO OU ?U\n",
    "OU OO OO OO ...\n",
    "...\n",
    "```\n"
   ]
  },
  {
   "cell_type": "markdown",
   "metadata": {
    "pycharm": {
     "name": "#%% md\n"
    }
   },
   "source": [
    "The complete list of all possible labels for this task used in this tutorial is: `OO, ,O, .O, ?O, OU, ,U, .U, ?U.`\n"
   ]
  },
  {
   "cell_type": "markdown",
   "metadata": {
    "pycharm": {
     "name": "#%% md\n"
    }
   },
   "source": [
    "The **audio.txt** file contains corresponding audio's filepath for each sample in text.txt\n",
    "\n",
    "Each line of the **audio.txt** should follow the format:\n",
    "/Path/to/audio/file.wav\n",
    "\n",
    "For example, filepaths for the above text.txt should be:"
   ]
  },
  {
   "cell_type": "markdown",
   "metadata": {
    "pycharm": {
     "name": "#%% md\n"
    }
   },
   "source": [
    "\n",
    "\n",
    "```\n",
    "/path/1.wav\n",
    "/path/2.wav\n",
    "...\n",
    "```\n",
    "\n"
   ]
  },
  {
   "cell_type": "markdown",
   "metadata": {
    "pycharm": {
     "name": "#%% md\n"
    }
   },
   "source": [
    "## Download and preprocess the data"
   ]
  },
  {
   "cell_type": "markdown",
   "metadata": {
    "pycharm": {
     "name": "#%% md\n"
    }
   },
   "source": [
    "In this notebook we are going to use a subset of [LibriTTS](https://www.openslr.org/60/). This script will download and preprocess the LibriTTS data [NeMo/examples/nlp/token_classification/get_libritts_data.py](https://github.com/NVIDIA/NeMo/blob/stable/examples/nlp/token_classification/data/get_libritts_data.py).\n",
    "**Note:** for simplicity we will use dev subset as train and dev subsets"
   ]
  },
  {
   "cell_type": "code",
   "execution_count": 4,
   "metadata": {
    "pycharm": {
     "name": "#%%\n"
    }
   },
   "outputs": [],
   "source": [
    "DATA_DIR = './data'\n",
    "WORK_DIR = './scripts'\n",
    "MODEL_CONFIG = \"punctuation_capitalization_lexical_audio_config.yaml\"\n",
    "\n",
    "# model parameters\n",
    "TOKENS_IN_BATCH = 1024\n",
    "MAX_SEQ_LENGTH = 64\n",
    "LEARNING_RATE = 0.00002"
   ]
  },
  {
   "cell_type": "code",
   "execution_count": 5,
   "metadata": {
    "pycharm": {
     "name": "#%% md\n"
    }
   },
   "outputs": [
    {
     "name": "stdout",
     "output_type": "stream",
     "text": [
      "Downloading get_libritts_data.py...\n",
      "100% [................................................................................] 4804 / 4804"
     ]
    }
   ],
   "source": [
    "# download get_libritts_data.py script to download and preprocess the LibriTTS data\n",
    "os.makedirs(WORK_DIR, exist_ok=True)\n",
    "if not os.path.exists(WORK_DIR + '/get_libritts_data.py'):\n",
    "    print('Downloading get_libritts_data.py...')\n",
    "    wget.download(f'https://raw.githubusercontent.com/NVIDIA/NeMo/{BRANCH}/examples/nlp/token_classification/data/get_libritts_data.py', WORK_DIR)\n",
    "else:\n",
    "    print ('get_libritts_data.py already exists')"
   ]
  },
  {
   "cell_type": "code",
   "execution_count": 8,
   "metadata": {
    "pycharm": {
     "name": "#%%\n"
    }
   },
   "outputs": [
    {
     "name": "stdout",
     "output_type": "stream",
     "text": [
      "Traceback (most recent call last):\r\n",
      "  File \"/home/mnovikov/NeMo/tutorials/nlp/./scripts/get_libritts_data.py\", line 29, in <module>\r\n",
      "    from get_tatoeba_data import create_text_and_labels\r\n",
      "ModuleNotFoundError: No module named 'get_tatoeba_data'\r\n"
     ]
    }
   ],
   "source": [
    "# download and preprocess the data\n",
    "# we will use dev_clean and dev_other subsets\n",
    "# --clean flag deletes raw data\n",
    "!python $WORK_DIR/get_libritts_data.py --data_dir $DATA_DIR --clean --data_set dev_clean,dev_other"
   ]
  },
  {
   "cell_type": "markdown",
   "metadata": {
    "pycharm": {
     "name": "#%% md\n"
    }
   },
   "source": [
    "after execution of the above cell, your data folder will contain the following 3 files needed for training (raw LibriTTS data could be present if `--clean` was not used):\n",
    "- labels_dev.txt\n",
    "- text_dev.txt\n",
    "- audio_dev.txt"
   ]
  },
  {
   "cell_type": "code",
   "execution_count": null,
   "metadata": {
    "pycharm": {
     "name": "#%%\n"
    }
   },
   "outputs": [],
   "source": [
    "!ls -l $DATA_DIR"
   ]
  },
  {
   "cell_type": "code",
   "execution_count": null,
   "metadata": {
    "pycharm": {
     "name": "#%%\n"
    }
   },
   "outputs": [],
   "source": [
    "# let's take a look at the data\n",
    "print('Raw text:')\n",
    "!head -n 5 $DATA_DIR/text_dev.txt\n",
    "\n",
    "print('\\nLabels:')\n",
    "!head -n 5 $DATA_DIR/labels_dev.txt\n",
    "\n",
    "print('\\nFilepaths: ')\n",
    "!head -n 5 $DATA_DIR/audio_dev.txt"
   ]
  },
  {
   "cell_type": "markdown",
   "metadata": {
    "pycharm": {
     "name": "#%% md\n"
    }
   },
   "source": [
    "As you see, `get_libritts_data.py` script provides not only downloads LibriTTS but also creates labels. If you wish to preprocess your own data, use [examples/nlp/token_classification/data/prepare_data_for_punctuation_capitalization.py](https://github.com/NVIDIA/NeMo/blob/main/examples/nlp/token_classification/data/prepare_data_for_punctuation_capitalization.py) script."
   ]
  },
  {
   "cell_type": "markdown",
   "metadata": {
    "pycharm": {
     "name": "#%% md\n"
    }
   },
   "source": [
    "# Tarred dataset\n",
    "\n",
    "If your dataset is too large to be stored in memory, you can use tarred dataset. A tarred dataset is a collection of tarred files which contain batches ready for passing into a model.\n",
    "\n",
    "All tar files will contain identical number of batches, so if number of batches in the dataset is not evenly divisible by parameter `--num_batches_per_tar_file` value, then up to `--num_batches_per_tar_file - 1` batches may be lost. More details on [tarred dataset](https://docs.nvidia.com/deeplearning/nemo/user-guide/docs/en/stable/nlp/punctuation_and_capitalization.html#tarred-dataset) and details specific to lexical and audio model's [tarred dataset](https://docs.nvidia.com/deeplearning/nemo/user-guide/docs/en/stable/nlp/punctuation_and_capitalization_lexical_audio.html#tarred-dataset)."
   ]
  },
  {
   "cell_type": "code",
   "execution_count": null,
   "metadata": {
    "pycharm": {
     "name": "#%%\n"
    }
   },
   "outputs": [],
   "source": [
    "# Number of lines in text and labels files\n",
    "!wc -l $DATA_DIR/text_dev.txt\n",
    "!wc -l $DATA_DIR/labels_dev.txt"
   ]
  },
  {
   "cell_type": "code",
   "execution_count": null,
   "metadata": {
    "pycharm": {
     "name": "#%%\n"
    }
   },
   "outputs": [],
   "source": [
    "## download script to prepare tarred dataset\n",
    "os.makedirs(WORK_DIR, exist_ok=True)\n",
    "if not os.path.exists(f\"{WORK_DIR}/create_punctuation_capitalization_tarred_dataset.py\"):\n",
    "    print('Downloading create_punctuation_capitalization_tarred_dataset.py...')\n",
    "    wget.download(f'https://raw.githubusercontent.com/NVIDIA/NeMo/{BRANCH}/examples/nlp/token_classification/data/create_punctuation_capitalization_tarred_dataset.py', WORK_DIR)\n",
    "else:\n",
    "    print (\"create_punctuation_capitalization_tarred_dataset.py script already exists\")\n",
    "\n",
    "!python $WORK_DIR/create_punctuation_capitalization_tarred_dataset.py \\\n",
    "    --text $DATA_DIR/text_dev.txt \\\n",
    "    --labels $DATA_DIR/labels_dev.txt \\\n",
    "    --output_dir $DATA_DIR/train_tarred \\\n",
    "    --num_batches_per_tarfile 20 \\\n",
    "    --tokens_in_batch 1024 \\\n",
    "    --lines_per_dataset_fragment 4000 \\\n",
    "    --tokenizer_name bert-base-uncased \\\n",
    "    --n_jobs 2 \\\n",
    "    --use_audio \\\n",
    "    --sample_rate 16000 \\\n",
    "    --audio_file $DATA_DIR/audio_dev.txt\n"
   ]
  },
  {
   "cell_type": "code",
   "execution_count": null,
   "metadata": {
    "pycharm": {
     "name": "#%%\n"
    }
   },
   "outputs": [],
   "source": [
    "!ls $DATA_DIR/train_tarred -l"
   ]
  },
  {
   "cell_type": "code",
   "execution_count": null,
   "metadata": {
    "pycharm": {
     "name": "#%%\n"
    }
   },
   "outputs": [],
   "source": [
    "!ls $DATA_DIR/train_tarred/*.tar | wc -l  # number of tar files"
   ]
  },
  {
   "cell_type": "code",
   "execution_count": null,
   "metadata": {
    "pycharm": {
     "name": "#%%\n"
    }
   },
   "outputs": [],
   "source": [
    "!ls $DATA_DIR/train_tarred/ | grep -v '.tar'  # all not tar files"
   ]
  },
  {
   "cell_type": "markdown",
   "metadata": {
    "pycharm": {
     "name": "#%% md\n"
    }
   },
   "source": [
    "If you wish to use tarred dataset, then you need to\n",
    "- pass metadata JSON file in config parameter `model.train_ds.tar_metadata_file`,\n",
    "- set `model.train_ds.use_tarred_dataset=true`."
   ]
  },
  {
   "cell_type": "markdown",
   "metadata": {
    "pycharm": {
     "name": "#%% md\n"
    }
   },
   "source": [
    "# Model Configuration"
   ]
  },
  {
   "cell_type": "markdown",
   "metadata": {
    "pycharm": {
     "name": "#%% md\n"
    }
   },
   "source": [
    "In the Punctuation and Capitalization Model, we are jointly training two token-level classifiers on top of the fusion of pretrained [BERT](https://arxiv.org/pdf/1810.04805.pdf) and encoder of ASR model models:\n",
    "- one classifier to predict punctuation and\n",
    "- the other one - capitalization.\n",
    "\n",
    "The model is defined in a config file which declares multiple important sections. They are:\n",
    "- **model**: All arguments that are related to the Model - language model, token classifiers, optimizer and schedulers, dataset and any other related information\n",
    "\n",
    "- **trainer**: Any argument to be passed to PyTorch Lightning\n",
    "\n",
    "See [docs](https://docs.nvidia.com/deeplearning/nemo/user-guide/docs/en/main/nlp/punctuation_and_capitalization.html#training-punctuation-and-capitalization-model) for full config description."
   ]
  },
  {
   "cell_type": "code",
   "execution_count": null,
   "metadata": {
    "pycharm": {
     "name": "#%%\n"
    }
   },
   "outputs": [],
   "source": [
    "# download the model's configuration file\n",
    "config_dir = WORK_DIR + '/configs/'\n",
    "os.makedirs(config_dir, exist_ok=True)\n",
    "if not os.path.exists(config_dir + MODEL_CONFIG):\n",
    "    print('Downloading config file...')\n",
    "    wget.download(f'https://raw.githubusercontent.com/NVIDIA/NeMo/{BRANCH}/examples/nlp/token_classification/conf/' + MODEL_CONFIG, config_dir)\n",
    "else:\n",
    "    print ('config file already exists')"
   ]
  },
  {
   "cell_type": "code",
   "execution_count": null,
   "metadata": {
    "pycharm": {
     "name": "#%%\n"
    }
   },
   "outputs": [],
   "source": [
    "# this line will print the entire config of the model\n",
    "config_path = f'{WORK_DIR}/configs/{MODEL_CONFIG}'\n",
    "print(config_path)\n",
    "config = OmegaConf.load(config_path)\n",
    "print(OmegaConf.to_yaml(config))"
   ]
  },
  {
   "cell_type": "markdown",
   "metadata": {
    "pycharm": {
     "name": "#%% md\n"
    }
   },
   "source": [
    "# Setting up Data within the config\n",
    "\n",
    "Among other things, the config file contains dictionaries called `common_dataset_parameters`, `train_ds` and `validation_ds`. These are configurations used to setup the Dataset and DataLoaders of the corresponding config.\n",
    "\n",
    "Specify paths directories with train and dev datasets in parameters `train_ds.ds_item` and `validation_ds.ds_item`.\n",
    "\n",
    "If you want to use multiple datasets for evaluation, specify paths to the directory(ies) with evaluation file(s) in the following way:\n",
    "\n",
    "`model.validation_ds.ds_item=[PATH_TO_DEV1,PATH_TO_DEV2]` (Note no space between the paths and square brackets).\n",
    "\n",
    "Also notice that some configs, including `model.train_ds.ds_item`, have `???` in place of values, this values are required to be specified by the user.\n",
    "\n",
    "Let's now add the data directory path to the config."
   ]
  },
  {
   "cell_type": "code",
   "execution_count": null,
   "metadata": {
    "pycharm": {
     "name": "#%%\n"
    }
   },
   "outputs": [],
   "source": [
    "# in this tutorial train and dev data is located in the same folder\n",
    "config.model.train_ds.ds_item = DATA_DIR\n",
    "config.model.validation_ds.ds_item = DATA_DIR\n",
    "del config.model.test_ds  # We do not have test data, only train and dev"
   ]
  },
  {
   "cell_type": "markdown",
   "metadata": {
    "pycharm": {
     "name": "#%% md\n"
    }
   },
   "source": [
    "# Building the PyTorch Lightning Trainer\n",
    "\n",
    "NeMo models are primarily PyTorch Lightning modules - and therefore are entirely compatible with the PyTorch Lightning ecosystem!\n",
    "\n",
    "Let's first instantiate a Trainer object!"
   ]
  },
  {
   "cell_type": "code",
   "execution_count": null,
   "metadata": {
    "pycharm": {
     "name": "#%%\n"
    }
   },
   "outputs": [],
   "source": [
    "print(\"Trainer config - \\n\")\n",
    "print(OmegaConf.to_yaml(config.trainer))"
   ]
  },
  {
   "cell_type": "code",
   "execution_count": null,
   "metadata": {
    "pycharm": {
     "name": "#%%\n"
    }
   },
   "outputs": [],
   "source": [
    "# lets modify some trainer configs\n",
    "# checks if we have GPU available and uses it\n",
    "accelerator = 'gpu' if torch.cuda.is_available() else 'cpu'\n",
    "config.trainer.devices = 1\n",
    "config.trainer.accelerator = accelerator\n",
    "config.trainer.precision = 16 if torch.cuda.is_available() else 32\n",
    "\n",
    "# For mixed precision training, use precision=16 and amp_level=O1\n",
    "\n",
    "# Reduces maximum number of epochs to 1 for a quick training\n",
    "config.trainer.max_epochs = 1\n",
    "\n",
    "# Remove distributed training flags\n",
    "config.trainer.strategy = None\n",
    "config.exp_manager.use_datetime_version=False\n",
    "config.exp_manager.explicit_log_dir='Punctuation_And_Capitalization_Lexical_Audio'\n",
    "\n",
    "trainer = pl.Trainer(**config.trainer)"
   ]
  },
  {
   "cell_type": "markdown",
   "metadata": {
    "pycharm": {
     "name": "#%% md\n"
    }
   },
   "source": [
    "# Setting up a NeMo Experiment\n",
    "\n",
    "NeMo has an experiment manager that handles logging and checkpointing for us, so let's use it!"
   ]
  },
  {
   "cell_type": "code",
   "execution_count": null,
   "metadata": {
    "pycharm": {
     "name": "#%%\n"
    }
   },
   "outputs": [],
   "source": [
    "exp_dir = exp_manager(trainer, config.get(\"exp_manager\", None))\n",
    "\n",
    "# the exp_dir provides a path to the current experiment for easy access\n",
    "exp_dir = str(exp_dir)\n",
    "exp_dir"
   ]
  },
  {
   "cell_type": "markdown",
   "metadata": {
    "pycharm": {
     "name": "#%% md\n"
    }
   },
   "source": [
    "# Model Training"
   ]
  },
  {
   "cell_type": "markdown",
   "metadata": {
    "pycharm": {
     "name": "#%% md\n"
    }
   },
   "source": [
    "Before initializing the model, we might want to modify some of the model configs. For example, we might want to modify the pretrained BERT model and Conformer model."
   ]
  },
  {
   "cell_type": "code",
   "execution_count": null,
   "metadata": {
    "pycharm": {
     "name": "#%%\n"
    }
   },
   "outputs": [],
   "source": [
    "# complete list of supported BERT-like models\n",
    "print(nemo_nlp.modules.get_pretrained_lm_models_list())\n",
    "\n",
    "PRETRAINED_BERT_MODEL = \"bert-base-uncased\"\n",
    "\n",
    "# complete list of supported ASR models\n",
    "print(nemo_asr.models.ASRModel.list_available_models())\n",
    "\n",
    "PRETRAINED_ASR_MODEL = \"stt_en_conformer_ctc_small\""
   ]
  },
  {
   "cell_type": "code",
   "execution_count": null,
   "metadata": {
    "pycharm": {
     "name": "#%%\n"
    }
   },
   "outputs": [],
   "source": [
    "# add the specified above model parameters to the config\n",
    "config.model.language_model.pretrained_model_name = PRETRAINED_BERT_MODEL\n",
    "config.model.train_ds.tokens_in_batch = TOKENS_IN_BATCH\n",
    "config.model.train_ds.text_file = 'text_dev.txt'\n",
    "config.model.train_ds.labels_file = 'labels_dev.txt'\n",
    "config.model.train_ds.audio_file = 'audio_dev.txt'\n",
    "config.model.validation_ds.tokens_in_batch = TOKENS_IN_BATCH\n",
    "config.model.optim.lr = LEARNING_RATE\n",
    "config.model.audio_encoder.pretrained_model = PRETRAINED_ASR_MODEL\n",
    "config.model.train_ds.preload_audios = True\n",
    "config.model.validation_ds.preload_audios = True"
   ]
  },
  {
   "cell_type": "markdown",
   "metadata": {
    "pycharm": {
     "name": "#%% md\n"
    }
   },
   "source": [
    "Now, we are ready to initialize our model. During the model initialization call, the dataset and data loaders we'll be prepared for training and evaluation.\n",
    "Also, the pretrained BERT model will be downloaded, note it can take up to a few minutes depending on the size of the chosen BERT model."
   ]
  },
  {
   "cell_type": "code",
   "execution_count": null,
   "metadata": {
    "pycharm": {
     "name": "#%%\n"
    }
   },
   "outputs": [],
   "source": [
    "# initialize the model\n",
    "# during this stage, the dataset and data loaders we'll be prepared for training and evaluation\n",
    "model = nemo_nlp.models.PunctuationCapitalizationLexicalAudioModel(cfg=config.model, trainer=trainer)"
   ]
  },
  {
   "cell_type": "markdown",
   "metadata": {
    "pycharm": {
     "name": "#%% md\n"
    }
   },
   "source": [
    "## Monitoring training progress\n",
    "Optionally, you can create a Tensorboard visualization to monitor training progress."
   ]
  },
  {
   "cell_type": "code",
   "execution_count": null,
   "metadata": {
    "pycharm": {
     "name": "#%%\n"
    }
   },
   "outputs": [],
   "source": [
    "try:\n",
    "  from google import colab\n",
    "  COLAB_ENV = True\n",
    "except (ImportError, ModuleNotFoundError):\n",
    "  COLAB_ENV = False\n",
    "\n",
    "# Load the TensorBoard notebook extension\n",
    "if COLAB_ENV:\n",
    "  %load_ext tensorboard\n",
    "  %tensorboard --logdir {exp_dir}\n",
    "else:\n",
    "  print(\"To use tensorboard, please use this notebook in a Google Colab environment.\")"
   ]
  },
  {
   "cell_type": "code",
   "execution_count": null,
   "metadata": {
    "pycharm": {
     "name": "#%%\n"
    }
   },
   "outputs": [],
   "source": [
    "# start the training\n",
    "trainer.fit(model)"
   ]
  },
  {
   "cell_type": "markdown",
   "metadata": {
    "pycharm": {
     "name": "#%% md\n"
    }
   },
   "source": [
    "# Training using tarred dataset"
   ]
  },
  {
   "cell_type": "code",
   "execution_count": null,
   "metadata": {
    "pycharm": {
     "name": "#%%\n"
    }
   },
   "outputs": [],
   "source": [
    "config = OmegaConf.load(config_path)\n",
    "config.model.train_ds.ds_item = f'{DATA_DIR}/train_tarred'\n",
    "config.model.train_ds.use_tarred_dataset = True\n",
    "# Only metadata file name is required if `use_tarred_dataset=true`.\n",
    "config.model.train_ds.tar_metadata_file = 'metadata.punctuation_capitalization.tokens1024.max_seq_length512.bert-base-uncased.json'\n",
    "config.model.validation_ds.ds_item = DATA_DIR\n",
    "del config.model.test_ds  # We do not have test data, only train and dev\n",
    "\n",
    "# Trainer\n",
    "accelerator = 'gpu' if torch.cuda.is_available() else 'cpu'\n",
    "config.trainer.devices = 1\n",
    "config.trainer.accelerator = accelerator\n",
    "config.trainer.precision = 16 if torch.cuda.is_available() else 32\n",
    "config.trainer.max_epochs = 1\n",
    "config.trainer.strategy = None\n",
    "\n",
    "# Exp manager\n",
    "config.exp_manager.explicit_log_dir = 'tarred_experiment'\n",
    "\n",
    "config.model.language_model.pretrained_model_name = PRETRAINED_BERT_MODEL\n",
    "config.model.validation_ds.tokens_in_batch = TOKENS_IN_BATCH\n",
    "config.model.optim.lr = LEARNING_RATE\n",
    "config.model.validation_ds.preload_audios = True\n",
    "config.model.audio_encoder.pretrained_model = PRETRAINED_ASR_MODEL"
   ]
  },
  {
   "cell_type": "code",
   "execution_count": null,
   "metadata": {
    "pycharm": {
     "name": "#%%\n"
    }
   },
   "outputs": [],
   "source": [
    "trainer = pl.Trainer(**config.trainer)\n",
    "exp_dir = exp_manager(trainer, config.get(\"exp_manager\", None))\n",
    "exp_manager.use_datetime_version=False\n",
    "exp_manager.explicit_log_dir='Punctuation_And_Capitalization_Lexical_Audio'\n",
    "model = nemo_nlp.models.PunctuationCapitalizationLexicalAudioModel(cfg=config.model, trainer=trainer)\n",
    "trainer.fit(model)"
   ]
  },
  {
   "cell_type": "markdown",
   "metadata": {
    "pycharm": {
     "name": "#%% md\n"
    }
   },
   "source": [
    "# Inference using a pretrained model\n",
    "\n",
    "For [inference](https://docs.nvidia.com/deeplearning/nemo/user-guide/docs/en/stable/nlp/punctuation_and_capitalization_lexical_audio.html#inference) you can use same script as ``PunctuationCapitalizationModel`` uses, just add **--use_audio** and **--audio_file** parameters."
   ]
  },
  {
   "cell_type": "markdown",
   "metadata": {
    "pycharm": {
     "name": "#%% md\n"
    }
   },
   "source": [
    "## Training Script\n",
    "\n",
    "If you have NeMo installed locally, you can also train the model with [nlp/token_classification/punctuation_capitalization_lexical_audio_train_evaluate.py](https://github.com/NVIDIA/NeMo/blob/main/examples/nlp/token_classification/punctuation_capitalization_lexical_audio_train_evaluate.py).\n",
    "\n",
    "To run training script, use:\n",
    "\n",
    "`python punctuation_capitalization_lexical_audio_train_evaluate.py model.train_ds.ds_item=PATH_TO_TRAIN_DATA_DIR`\n",
    "\n",
    "\n",
    "# Finetuning model with your data\n",
    "\n",
    "When we were training the model from scratch, the datasets were prepared for training during the model initialization. When we are using a pretrained Punctuation and Capitalization model, before training, we need to setup training and evaluation data."
   ]
  },
  {
   "cell_type": "code",
   "execution_count": null,
   "metadata": {
    "pycharm": {
     "name": "#%%\n"
    }
   },
   "outputs": [],
   "source": [
    "# let's reload our pretrained model\n",
    "pretrained_model = nemo_nlp.models.PunctuationCapitalizationLexicalAudioModel.from_pretrained('Punctuation_And_Capitalization_Lexical_Audio/checkpoints/Punctuation_and_Capitalization_Lexical_Audio.nemo')\n",
    "\n",
    "# setup train and validation Pytorch DataLoaders\n",
    "pretrained_model.update_config_after_restoring_from_checkpoint(\n",
    "    train_ds={\n",
    "        'ds_item': DATA_DIR,\n",
    "        'text_file': 'text_train.txt',\n",
    "        'labels_file': 'labels_train.txt',\n",
    "        'tokens_in_batch': 1024,\n",
    "    },\n",
    "    validation_ds={\n",
    "        'ds_item': DATA_DIR,\n",
    "        'text_file': 'text_dev.txt',\n",
    "        'labels_file': 'labels_dev.txt',\n",
    "        'tokens_in_batch': 1024,\n",
    "    },\n",
    ")\n",
    "\n",
    "# and now we can create a PyTorch Lightning trainer and call `fit` again\n",
    "# for this tutorial we are setting fast_dev_run to True, and the trainer will run 1 training batch and 1 validation batch\n",
    "# for actual model training, disable the flag\n",
    "fast_dev_run = True\n",
    "trainer = pl.Trainer(devices=1, accelerator='gpu', fast_dev_run=fast_dev_run)\n",
    "pretrained_model.set_trainer(trainer)\n",
    "pretrained_model.setup_training_data()\n",
    "pretrained_model.setup_validation_data()\n",
    "trainer.fit(pretrained_model)"
   ]
  },
  {
   "cell_type": "markdown",
   "metadata": {
    "pycharm": {
     "name": "#%% md\n"
    }
   },
   "source": [
    "## Next steps\n",
    "\n",
    "In this tutorial we used fairly small amount of data for showcase purposes. If you wish to train your own model you probably need to collect more data.\n",
    "\n",
    "For more details on model you can read [documentation](https://docs.nvidia.com/deeplearning/nemo/user-guide/docs/en/stable/nlp/punctuation_and_capitalization_lexical_audio.html#quick-start-guide). \n"
   ]
  }
 ],
 "metadata": {
  "kernelspec": {
   "display_name": "Python 3 (ipykernel)",
   "language": "python",
   "name": "python3"
  },
  "language_info": {
   "codemirror_mode": {
    "name": "ipython",
    "version": 3
   },
   "file_extension": ".py",
   "mimetype": "text/x-python",
   "name": "python",
   "nbconvert_exporter": "python",
   "pygments_lexer": "ipython3",
   "version": "3.9.13"
  }
 },
 "nbformat": 4,
 "nbformat_minor": 1
}
