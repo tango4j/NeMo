{
 "cells": [
  {
   "cell_type": "code",
   "execution_count": 2,
   "metadata": {},
   "outputs": [
    {
     "name": "stdout",
     "output_type": "stream",
     "text": [
      "tensor([[0.3342, 0.3328, 0.3330],\n",
      "        [0.3347, 0.3340, 0.3313]], device='cuda:0', grad_fn=<SoftmaxBackward0>)\n"
     ]
    }
   ],
   "source": [
    "import torch\n",
    "from nemo.collections.asr.parts.submodules.multichannel_modules import ReferenceChannelEstimatorSQUIM\n",
    "\n",
    "# metric = 'si-sdr'\n",
    "# metric = 'stoi'\n",
    "metric = 'pesq'\n",
    "model = ReferenceChannelEstimatorSQUIM(metric=metric, hard=False).to('cuda:0')\n",
    "\n",
    "B, C, T = 2, 3, 160000\n",
    "x = torch.rand(B, C, T).to('cuda:0')\n",
    "\n",
    "score = model(x)\n",
    "print(score)"
   ]
  }
 ],
 "metadata": {
  "kernelspec": {
   "display_name": "nemo_taejin_0330_plus_gss_ta_dev",
   "language": "python",
   "name": "python3"
  },
  "language_info": {
   "codemirror_mode": {
    "name": "ipython",
    "version": 3
   },
   "file_extension": ".py",
   "mimetype": "text/x-python",
   "name": "python",
   "nbconvert_exporter": "python",
   "pygments_lexer": "ipython3",
   "version": "3.9.16"
  },
  "orig_nbformat": 4
 },
 "nbformat": 4,
 "nbformat_minor": 2
}
